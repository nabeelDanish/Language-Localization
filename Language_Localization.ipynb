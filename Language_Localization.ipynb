{
 "cells": [
  {
   "cell_type": "markdown",
   "metadata": {},
   "source": [
    "# Language Localization on Live Audio"
   ]
  },
  {
   "cell_type": "markdown",
   "metadata": {},
   "source": [
    "\n",
    "Importing Localization File"
   ]
  },
  {
   "cell_type": "code",
   "execution_count": null,
   "metadata": {},
   "outputs": [],
   "source": [
    "from languageLocalization import *"
   ]
  },
  {
   "cell_type": "code",
   "execution_count": null,
   "metadata": {},
   "outputs": [],
   "source": [
    "# Loading Model\n",
    "model = initModel('weights.hdf5')\n",
    "model.compile(loss = 'categorical_crossentropy', optimizer = 'adamax', metrics = ['accuracy'])"
   ]
  },
  {
   "cell_type": "markdown",
   "metadata": {},
   "source": [
    "Some Hypterparameters"
   ]
  },
  {
   "cell_type": "code",
   "execution_count": null,
   "metadata": {},
   "outputs": [],
   "source": [
    "chunk_duration = 1 # Each read length in seconds from mic.\n",
    "fs = 16000 # sampling rate for mic\n",
    "chunk_samples = int(fs * chunk_duration) # Each read length in number of samples.\n",
    "\n",
    "# Each model input data duration in seconds, need to be an integer numbers of chunk_duration\n",
    "feed_duration = 1\n",
    "feed_samples = int(fs * feed_duration)\n",
    "assert feed_duration/chunk_duration == int(feed_duration/chunk_duration)"
   ]
  },
  {
   "cell_type": "markdown",
   "metadata": {},
   "source": [
    "Below script will run audio localization on live audio. \n",
    "Some of the parameters to use here are:\n",
    "    amnt_time -- the amount of time (in seconds) to run live recording\n",
    "    silence_threshold -- amount of dB considered to be silence. \n",
    "\n",
    "Use a high silence threshold to make predictions between languages more easier"
   ]
  },
  {
   "cell_type": "code",
   "execution_count": 6,
   "metadata": {},
   "outputs": [
    {
     "name": "stdout",
     "output_type": "stream",
     "text": [
      "....urdu\n",
      "urdu\n",
      ".english\n",
      ".english\n",
      ".urdu\n",
      ".urdu\n",
      ".sindhi\n",
      ".sindhi\n",
      ".english\n",
      ".english\n",
      ".urdu\n",
      ".urdu\n",
      ".english\n",
      ".english\n",
      ".english\n",
      ".english\n",
      ".urdu\n",
      ".urdu\n",
      ".english\n",
      ".english\n",
      ".english\n",
      ".english\n",
      ".english\n",
      ".english\n",
      ".english\n",
      ".english\n",
      ".english\n",
      ".english\n",
      ".english\n",
      ".english\n",
      ".english\n",
      ".english\n",
      ".english\n",
      ".english\n",
      ".english\n",
      ".english\n",
      ".english\n",
      ".english\n",
      ".english\n",
      ".english\n",
      ".english\n",
      ".english\n",
      ".english\n",
      ".english\n",
      ".english\n",
      ".english\n",
      ".english\n",
      ".english\n",
      ".english\n",
      ".english\n",
      ".english\n",
      ".english\n",
      ".english\n",
      ".english\n",
      ".english\n",
      ".english\n",
      ".english\n",
      ".english\n",
      ".english\n",
      ".urdu\n",
      "..........."
     ]
    }
   ],
   "source": [
    "def get_audio_input_stream(callback):\n",
    "  stream = pyaudio.PyAudio().open(\n",
    "\t  format=pyaudio.paInt16,\n",
    "\t  channels=1,\n",
    "\t  rate=fs,\n",
    "\t  input=True,\n",
    "\t  frames_per_buffer=chunk_samples,\n",
    "\t  input_device_index=0,\n",
    "\t  stream_callback=callback)\n",
    "  return stream\n",
    "\n",
    "# Starting Live Recording\n",
    "# Queue to communiate between the audio callback and main thread\n",
    "\n",
    "q = Queue()\n",
    "\n",
    "run = True\n",
    "\n",
    "silence_threshold = 1000\n",
    "amnt_time = 30\n",
    "\n",
    "# Run the demo for a timeout seconds\n",
    "timeout = time.time() + amnt_time  # 0.5 minutes from now\n",
    "\n",
    "# Data buffer for the input wavform\n",
    "data = np.zeros(feed_samples, dtype='int16')\n",
    "\n",
    "def callback(in_data, frame_count, time_info, status):\n",
    "    global run, timeout, data, silence_threshold    \n",
    "    if time.time() > timeout:\n",
    "        run = False        \n",
    "    data0 = np.frombuffer(in_data, dtype='int16')\n",
    "    if np.abs(data0).mean() < silence_threshold:\n",
    "        sys.stdout.write('-')\n",
    "        return (in_data, pyaudio.paContinue)\n",
    "    else:\n",
    "        sys.stdout.write('.')\n",
    "    data = np.append(data,data0)    \n",
    "    if len(data) > feed_samples:\n",
    "        data = data[-feed_samples:]\n",
    "        # Process data async by sending a queue.\n",
    "        q.put(data)\n",
    "    return (in_data, pyaudio.paContinue)\n",
    "\n",
    "stream = get_audio_input_stream(callback)\n",
    "stream.start_stream()\n",
    "try:\n",
    "    while run:\n",
    "        data = q.get()\n",
    "        preds = predict(data, model)\n",
    "        print(preds)\n",
    "        \n",
    "except (KeyboardInterrupt, SystemExit):\n",
    "    stream.stop_stream()\n",
    "    stream.close()\n",
    "    timeout = time.time()\n",
    "    run = False\n",
    "        \n",
    "stream.stop_stream()\n",
    "stream.close()"
   ]
  },
  {
   "cell_type": "code",
   "execution_count": null,
   "metadata": {},
   "outputs": [],
   "source": []
  }
 ],
 "metadata": {
  "colab": {
   "collapsed_sections": [],
   "name": "Language Localization.ipynb",
   "provenance": []
  },
  "kernelspec": {
   "display_name": "Python 3",
   "language": "python",
   "name": "python3"
  },
  "language_info": {
   "codemirror_mode": {
    "name": "ipython",
    "version": 3
   },
   "file_extension": ".py",
   "mimetype": "text/x-python",
   "name": "python",
   "nbconvert_exporter": "python",
   "pygments_lexer": "ipython3",
   "version": "3.7.8"
  }
 },
 "nbformat": 4,
 "nbformat_minor": 1
}
